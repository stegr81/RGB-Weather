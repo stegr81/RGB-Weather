{
 "cells": [
  {
   "cell_type": "code",
   "execution_count": 19,
   "metadata": {},
   "outputs": [],
   "source": [
    "import requests\n",
    "from datetime import datetime\n",
    "from datetime import timedelta\n",
    "import schedule\n",
    "import board, neopixel"
   ]
  },
  {
   "cell_type": "code",
   "execution_count": 45,
   "metadata": {},
   "outputs": [],
   "source": [
    "class Forecast:\n",
    "    def __init__(self,api_key = \"f9a3c987-15db-40fb-abc6-312e6381e68f\", locator_code = \"350893\"):\n",
    "        self.__temperature_dict={\n",
    "            '-5':(0,0,153),\n",
    "            '-4':(0,0,153),\n",
    "            '-3':(0,0,255),\n",
    "            '-2':(0,0,255),\n",
    "            '-1':(0,128,255),\n",
    "            '0':(0,128,255),\n",
    "            '1':(102,178,255),\n",
    "            '2':(102,178,255),\n",
    "            '3':(153,204,255),\n",
    "            '4':(153,204,255),\n",
    "            '5':(204,229,255),\n",
    "            '6':(204,229,255),\n",
    "            '7':(204,255,255),\n",
    "            '8':(204,255,255),\n",
    "            '9':(102,255,255),\n",
    "            '10':(102,255,255),\n",
    "            '11':(255,255,204),\n",
    "            '12':(255,255,204),\n",
    "            '13':(255,255,153),\n",
    "            '14':(255,255,153),\n",
    "            '15':(255,255,0),\n",
    "            '16':(255,255,0),\n",
    "            '17':(255,178,102),\n",
    "            '18':(255,178,102),\n",
    "            '19':(255,128,0),\n",
    "            '20':(255,128,0),\n",
    "            '21':(255,255,102),\n",
    "            '22':(255,255,102),\n",
    "            '23':(255,0,0,),\n",
    "            '24':(255,0,0),\n",
    "            }\n",
    "        self.__resource = \"val/wxfcs/all/json/\"\n",
    "        self.__locator_code = locator_code\n",
    "        self.__api_key = api_key\n",
    "        self.__endpoint = f\"http://datapoint.metoffice.gov.uk/public/data/{self.__resource}{self.__locator_code}?res=3hourly&key={self.__api_key}\"\n",
    "        self.__list_sites = \"http://datapoint.metoffice.gov.uk/public/data/val/wxfcs/all/json/sitelist?key=f9a3c987-15db-40fb-abc6-312e6381e68f\"\n",
    "        self.__site_list  = requests.get(self.__list_sites).json()\n",
    "    \n",
    "    def __get_forecast(self) -> list:\n",
    "        tomorrow = datetime.today().date()+timedelta(days=1)\n",
    "        display_date = tomorrow.strftime(\"%Y-%m-%dZ\")\n",
    "        forecast = requests.get(self.__endpoint).json()\n",
    "        temperature_list=[]\n",
    "        if forecast['SiteRep']['DV']['Location']['Period'][1]['value']==display_date:\n",
    "            for i in forecast['SiteRep']['DV']['Location']['Period'][1]['Rep']:\n",
    "                temperature_list.append((i['T']))\n",
    "\n",
    "        temperature_list = self.__pad_temps(temperature_list)\n",
    "        \n",
    "        return temperature_list\n",
    "    \n",
    "    def __pad_temps(self,temps,val1=0,val2=1,padded_temps=[]) -> list:\n",
    "        temps = [float(x) for x in temps]\n",
    "        for x in range(7):\n",
    "            padded_temps.append((temps[val1]+temps[val2])/2)\n",
    "            val1+=1\n",
    "            val2+=1\n",
    "\n",
    "        for n in range(1,14,2):\n",
    "            temps.insert(n,padded_temps.pop(0))\n",
    "\n",
    "        temps = [str(int(x)) for x in temps]\n",
    "            \n",
    "        return temps\n"
   ]
  },
  {
   "cell_type": "code",
   "execution_count": 46,
   "metadata": {},
   "outputs": [],
   "source": [
    "class Strip():\n",
    "    def __init__(self):      \n",
    "        self.__pixel_pin = board.D18\n",
    "        self.__num_pixels = 15\n",
    "        self.__order = neopixel.GRB\n",
    "        self.__pixels = neopixel.NeoPixel(\n",
    "            self.__pixel_pin, self.__num_pixels, brightness = 0.2, auto_write = False, pixel_order = self.__order\n",
    "        )\n"
   ]
  },
  {
   "cell_type": "code",
   "execution_count": 48,
   "metadata": {},
   "outputs": [],
   "source": [
    "class Weather(Forecast,Strip):\n",
    "    def __init__(self):\n",
    "        self.__temps = self.__get_forecast()\n",
    "\n",
    "    def set_pixels(self):\n",
    "        for i in self.num_pixels:\n",
    "            self.__pixels[i] = self.__temperature_dict[self.__temps[i]]\n",
    "        self.__pixels.show()"
   ]
  },
  {
   "cell_type": "code",
   "execution_count": 43,
   "metadata": {},
   "outputs": [],
   "source": [
    "weather = Weather()\n",
    "weather.set_pixels()"
   ]
  },
  {
   "cell_type": "code",
   "execution_count": 8,
   "metadata": {},
   "outputs": [],
   "source": []
  },
  {
   "cell_type": "code",
   "execution_count": 151,
   "metadata": {},
   "outputs": [
    {
     "name": "stdout",
     "output_type": "stream",
     "text": [
      "2023-04-19 18:44:34.733497\n",
      "2023-04-19 18:44:44.747643\n",
      "2023-04-19 18:44:54.757380\n"
     ]
    }
   ],
   "source": [
    "schedule.every().day.at(\"23:55\").do(weather.set_pixels())\n",
    "\n",
    "while True:\n",
    "    schedule.run_pending()\n",
    "    time.sleep(1)"
   ]
  }
 ],
 "metadata": {
  "kernelspec": {
   "display_name": "Python 3",
   "language": "python",
   "name": "python3"
  },
  "language_info": {
   "codemirror_mode": {
    "name": "ipython",
    "version": 3
   },
   "file_extension": ".py",
   "mimetype": "text/x-python",
   "name": "python",
   "nbconvert_exporter": "python",
   "pygments_lexer": "ipython3",
   "version": "3.10.7"
  },
  "orig_nbformat": 4,
  "vscode": {
   "interpreter": {
    "hash": "31f2aee4e71d21fbe5cf8b01ff0e069b9275f58929596ceb00d14d90e3e16cd6"
   }
  }
 },
 "nbformat": 4,
 "nbformat_minor": 2
}
